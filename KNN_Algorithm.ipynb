{
 "cells": [
  {
   "cell_type": "code",
   "execution_count": 50,
   "metadata": {},
   "outputs": [
    {
     "name": "stdout",
     "output_type": "stream",
     "text": [
      "Training:  308\n",
      "Test:  391\n"
     ]
    }
   ],
   "source": [
    "import csv\n",
    "import random\n",
    "\n",
    "def load_data(filename, split, training_data = [], test_data = []):\n",
    "    with open(filename, 'r') as file:\n",
    "        rows = csv.reader(file)\n",
    "        res = list(zip(*rows)) #transpose the matrix\n",
    "        #print(res)\n",
    "        data_set = list(map(list, zip(*res)))\n",
    "        #print(data_set)\n",
    "        #print('Total Data: ', len(data_set))\n",
    "        \n",
    "        for x in range(len(data_set)):\n",
    "            if random.random() < split:\n",
    "                training_data.append(data_set[x])\n",
    "            else:\n",
    "                test_data.append(data_set[x])\n",
    "\n",
    "training_data = []\n",
    "test_data = []\n",
    "load_data('clean_data.csv', 0.44, training_data, test_data)\n",
    "print('Training: ', len(training_data))\n",
    "print('Test: ', len(test_data))"
   ]
  },
  {
   "cell_type": "code",
   "execution_count": 2,
   "metadata": {},
   "outputs": [],
   "source": [
    "import csv\n",
    "with open(\"breast-cancer-wisconsin.data\",\"r\") as file:\n",
    "    rdr= csv.reader(file)\n",
    "    with open(\"clean_data.csv\",\"w\") as result:\n",
    "        wtr= csv.writer(result)\n",
    "        for r in rdr:\n",
    "            wtr.writerow( (r[1], r[2], r[3],r[4], r[5], r[6],r[7], r[8], r[9], r[10]) )"
   ]
  },
  {
   "cell_type": "code",
   "execution_count": 3,
   "metadata": {},
   "outputs": [],
   "source": [
    "import math\n",
    "\n",
    "def euclidean_distance(data1, data2, length):\n",
    "    distance = 0\n",
    "    for x in range(length):\n",
    "        v1 = data1[x]\n",
    "        v2 = data2[x]\n",
    "        if (v1 == '' or v1 == '?' or v1 == 'NA'):\n",
    "            v1 = 0\n",
    "        if (v2 == '' or v2 == '?' or v2 == 'NA'):\n",
    "            v2 = 0\n",
    "        distance += pow((float(v1) - float(v2)), 2)\n",
    "    return math.sqrt(distance)"
   ]
  },
  {
   "cell_type": "code",
   "execution_count": 4,
   "metadata": {},
   "outputs": [],
   "source": [
    "import operator\n",
    "\n",
    "def get_neighbors(training_set, test_instance, k):\n",
    "    distances = []\n",
    "    length = len(test_instance) - 1\n",
    "    for x in range(len(training_set)):\n",
    "        dist = euclidean_distance(test_instance, training_set[x], length)\n",
    "        distances.append((training_set[x], dist))\n",
    "        \n",
    "    distances.sort(key = operator.itemgetter(1))\n",
    "    neighbors = []\n",
    "    for x in range(k):\n",
    "        neighbors.append(distances[x][0])\n",
    "    return neighbors"
   ]
  },
  {
   "cell_type": "code",
   "execution_count": 5,
   "metadata": {},
   "outputs": [
    {
     "name": "stdout",
     "output_type": "stream",
     "text": [
      "[[4, 4, 4, 'b']]\n"
     ]
    }
   ],
   "source": [
    "#Test our distance, and neighbors function\n",
    "\n",
    "trainSet= [[2, 2, 2, 'a'],[4,4,4,'b']]\n",
    "testInstance = [5,5,5]\n",
    "k = 1\n",
    "neighbors = get_neighbors(trainSet, testInstance, 1)\n",
    "print(neighbors)"
   ]
  },
  {
   "cell_type": "code",
   "execution_count": 6,
   "metadata": {},
   "outputs": [],
   "source": [
    "import operator\n",
    "\n",
    "def determine_class(neighbors):\n",
    "    class_votes = {}\n",
    "    for x in range(len(neighbors)):\n",
    "        response = neighbors[x][-1]\n",
    "        if response in class_votes:\n",
    "            class_votes[response] += 1\n",
    "        else:\n",
    "            class_votes[response] = 1\n",
    "    sorted_votes = sorted(class_votes.items(), key = operator.itemgetter(1), reverse = True)\n",
    "    return sorted_votes[0][0]"
   ]
  },
  {
   "cell_type": "code",
   "execution_count": 7,
   "metadata": {},
   "outputs": [
    {
     "name": "stdout",
     "output_type": "stream",
     "text": [
      "a\n"
     ]
    }
   ],
   "source": [
    "#Test our determine_class function\n",
    "\n",
    "neighbors = [[1, 1, 1, 'a'],[2,2,2,b''],[3,3,3,],'b']\n",
    "response = determine_class(neighbors)\n",
    "print(response)"
   ]
  },
  {
   "cell_type": "code",
   "execution_count": 20,
   "metadata": {},
   "outputs": [],
   "source": [
    "#Calculate generic accuracy\n",
    "def get_accuracy(test_data, predictions):\n",
    "    correct = 0\n",
    "    for x in range(len(test_data)):\n",
    "        if test_data[x][-1] is predictions[x]:\n",
    "            correct += 1\n",
    "    return (correct/float(len(test_data)) * 100.0)"
   ]
  },
  {
   "cell_type": "code",
   "execution_count": 9,
   "metadata": {},
   "outputs": [
    {
     "name": "stdout",
     "output_type": "stream",
     "text": [
      "66.66666666666666\n"
     ]
    }
   ],
   "source": [
    "#Test our get_accuracy function\n",
    "\n",
    "testSet = [[1, 1, 1, 'a'],[2,2,2,'a'],[3,3,3,'b']]\n",
    "predictions = ['a', 'a' , 'a']\n",
    "accuracy = get_accuracy(testSet, predictions)\n",
    "print(accuracy)"
   ]
  },
  {
   "cell_type": "code",
   "execution_count": 74,
   "metadata": {},
   "outputs": [],
   "source": [
    "def run_knn(k = 3):\n",
    "    #prepare the data\n",
    "    training_set = []\n",
    "    test_set = []\n",
    "    split = 0.60\n",
    "    load_data('clean_data.csv', split, training_set, test_set)\n",
    "    #print('Training Set' , len(training_set))\n",
    "    #print('Test Set' , len(test_set))\n",
    "    \n",
    "    #Predict Class and Calculate Accuracy\n",
    "    predictions = []\n",
    "    actual_predict = []\n",
    "    for x in range(len(test_set)):\n",
    "        neighbors = get_neighbors(training_set, test_set[x], k)\n",
    "        result = determine_class(neighbors)\n",
    "        predictions.append(result)\n",
    "        #print('Predicted: ', result, ' > Actual: ', test_set[x][-1])\n",
    "        actual_predict.append([test_set[x][-1], result])\n",
    "        \n",
    "    accuracy = get_accuracy(test_set, predictions)\n",
    "    TN = 1\n",
    "    FP = 1 \n",
    "    FN = 1 \n",
    "    TP = 1\n",
    "    for i in range(len(actual_predict)):\n",
    "        if(actual_predict[i][0] == '2'):\n",
    "            if(actual_predict[i][1] == '2'):\n",
    "                TN += 1\n",
    "            elif(actual_predict[i][1] == '4'):\n",
    "                FP += 1\n",
    "        elif(actual_predict[i][0] == '4'):\n",
    "            if(actual_predict[i][1] == '2'):\n",
    "                FN += 1\n",
    "            elif(actual_predict[i][1] == '4'):\n",
    "                TP += 1\n",
    "        \n",
    "    #print('TN: ', TN)\n",
    "    #print('FP: ', FP)\n",
    "    #print('FN: ', FN)\n",
    "    #print('TP: ', TP)\n",
    "    \n",
    "    ac = (TN + TP) / (TN+TP+FP+FN)\n",
    "    #print('KNN Accuracy:', ac *100, '%')\n",
    "    \n",
    "    tpr = TP / (TP+FN)\n",
    "    #print('True positive rate:', tpr * 100, '%')\n",
    "    \n",
    "    ppv = TP/ (TP+FP)\n",
    "    #print('Positive predictve value:', ppv * 100, '%')\n",
    "    \n",
    "    tnr = TN/ (TN+FP)\n",
    "    #print('True negative rate:', tnr * 100, '%')\n",
    "    \n",
    "    f1_score = 2 * ppv * (tpr / (ppv+tpr))\n",
    "    #print('F1 Score:', f1_score * 100, '%')\n",
    "    \n",
    "    return f1_score\n",
    "\n",
    "#run_knn()"
   ]
  },
  {
   "cell_type": "code",
   "execution_count": 35,
   "metadata": {},
   "outputs": [
    {
     "name": "stdout",
     "output_type": "stream",
     "text": [
      "Running KNN with k= 2\n",
      "Total Data:  699\n",
      "Training Set 427\n",
      "Test Set 272\n",
      "TN:  184\n",
      "FP:  4\n",
      "FN:  5\n",
      "TP:  83\n",
      "KNN Accuracy: 96.73913043478261 %\n",
      "True positive rate: 94.31818181818183 %\n",
      "Positive predictve value: 95.40229885057471 %\n",
      "True negative rate: 97.87234042553192 %\n",
      "F1 Score: 94.85714285714285 %\n"
     ]
    }
   ],
   "source": [
    "print('Running KNN with k= 2')\n",
    "run_knn(2)"
   ]
  },
  {
   "cell_type": "code",
   "execution_count": 36,
   "metadata": {},
   "outputs": [
    {
     "name": "stdout",
     "output_type": "stream",
     "text": [
      "Running KNN with k= 3\n",
      "Total Data:  699\n",
      "Training Set 388\n",
      "Test Set 311\n",
      "TN:  193\n",
      "FP:  6\n",
      "FN:  6\n",
      "TP:  110\n",
      "KNN Accuracy: 96.19047619047619 %\n",
      "True positive rate: 94.82758620689656 %\n",
      "Positive predictve value: 94.82758620689656 %\n",
      "True negative rate: 96.98492462311557 %\n",
      "F1 Score: 94.82758620689656 %\n"
     ]
    }
   ],
   "source": [
    "print('Running KNN with k= 3')\n",
    "run_knn(3)"
   ]
  },
  {
   "cell_type": "code",
   "execution_count": 37,
   "metadata": {},
   "outputs": [
    {
     "name": "stdout",
     "output_type": "stream",
     "text": [
      "Running KNN with k= 4\n",
      "Total Data:  699\n",
      "Training Set 432\n",
      "Test Set 267\n",
      "TN:  163\n",
      "FP:  5\n",
      "FN:  10\n",
      "TP:  93\n",
      "KNN Accuracy: 94.4649446494465 %\n",
      "True positive rate: 90.29126213592234 %\n",
      "Positive predictve value: 94.89795918367348 %\n",
      "True negative rate: 97.02380952380952 %\n",
      "F1 Score: 92.53731343283582 %\n"
     ]
    }
   ],
   "source": [
    "print('Running KNN with k= 4')\n",
    "run_knn(4)"
   ]
  },
  {
   "cell_type": "code",
   "execution_count": 38,
   "metadata": {},
   "outputs": [
    {
     "name": "stdout",
     "output_type": "stream",
     "text": [
      "Running KNN with k= 5\n",
      "Total Data:  699\n",
      "Training Set 404\n",
      "Test Set 295\n",
      "TN:  186\n",
      "FP:  6\n",
      "FN:  6\n",
      "TP:  101\n",
      "KNN Accuracy: 95.9866220735786 %\n",
      "True positive rate: 94.39252336448598 %\n",
      "Positive predictve value: 94.39252336448598 %\n",
      "True negative rate: 96.875 %\n",
      "F1 Score: 94.39252336448598 %\n"
     ]
    }
   ],
   "source": [
    "print('Running KNN with k= 5')\n",
    "run_knn(5)"
   ]
  },
  {
   "cell_type": "code",
   "execution_count": 39,
   "metadata": {},
   "outputs": [
    {
     "name": "stdout",
     "output_type": "stream",
     "text": [
      "Running KNN with k= 6\n",
      "Total Data:  699\n",
      "Training Set 406\n",
      "Test Set 293\n",
      "TN:  187\n",
      "FP:  5\n",
      "FN:  5\n",
      "TP:  100\n",
      "KNN Accuracy: 96.63299663299664 %\n",
      "True positive rate: 95.23809523809523 %\n",
      "Positive predictve value: 95.23809523809523 %\n",
      "True negative rate: 97.39583333333334 %\n",
      "F1 Score: 95.23809523809523 %\n"
     ]
    }
   ],
   "source": [
    "print('Running KNN with k= 6')\n",
    "run_knn(6)"
   ]
  },
  {
   "cell_type": "code",
   "execution_count": 43,
   "metadata": {},
   "outputs": [
    {
     "name": "stdout",
     "output_type": "stream",
     "text": [
      "Running KNN with k= 7\n",
      "Total Data:  699\n",
      "Training Set 455\n",
      "Test Set 244\n",
      "TN:  159\n",
      "FP:  4\n",
      "FN:  5\n",
      "TP:  80\n",
      "KNN Accuracy: 96.37096774193549 %\n",
      "True positive rate: 94.11764705882352 %\n",
      "Positive predictve value: 95.23809523809523 %\n",
      "True negative rate: 97.54601226993866 %\n",
      "F1 Score: 94.67455621301775 %\n"
     ]
    }
   ],
   "source": [
    "print('Running KNN with k= 7')\n",
    "run_knn(7)"
   ]
  },
  {
   "cell_type": "code",
   "execution_count": 40,
   "metadata": {},
   "outputs": [
    {
     "name": "stdout",
     "output_type": "stream",
     "text": [
      "Running KNN with k= 8\n",
      "Total Data:  699\n",
      "Training Set 421\n",
      "Test Set 278\n",
      "TN:  185\n",
      "FP:  7\n",
      "FN:  2\n",
      "TP:  88\n",
      "KNN Accuracy: 96.80851063829788 %\n",
      "True positive rate: 97.77777777777777 %\n",
      "Positive predictve value: 92.63157894736842 %\n",
      "True negative rate: 96.35416666666666 %\n",
      "F1 Score: 95.13513513513513 %\n"
     ]
    }
   ],
   "source": [
    "print('Running KNN with k= 8')\n",
    "run_knn(8)"
   ]
  },
  {
   "cell_type": "code",
   "execution_count": 41,
   "metadata": {},
   "outputs": [
    {
     "name": "stdout",
     "output_type": "stream",
     "text": [
      "Running KNN with k= 17\n",
      "Total Data:  699\n",
      "Training Set 423\n",
      "Test Set 276\n",
      "TN:  176\n",
      "FP:  6\n",
      "FN:  9\n",
      "TP:  89\n",
      "KNN Accuracy: 94.64285714285714 %\n",
      "True positive rate: 90.81632653061224 %\n",
      "Positive predictve value: 93.6842105263158 %\n",
      "True negative rate: 96.7032967032967 %\n",
      "F1 Score: 92.2279792746114 %\n"
     ]
    }
   ],
   "source": [
    "print('Running KNN with k= 17')\n",
    "run_knn(17)"
   ]
  },
  {
   "cell_type": "code",
   "execution_count": 42,
   "metadata": {},
   "outputs": [
    {
     "name": "stdout",
     "output_type": "stream",
     "text": [
      "Running KNN with k= 33\n",
      "Total Data:  699\n",
      "Training Set 439\n",
      "Test Set 260\n",
      "TN:  163\n",
      "FP:  6\n",
      "FN:  9\n",
      "TP:  86\n",
      "KNN Accuracy: 94.31818181818183 %\n",
      "True positive rate: 90.52631578947368 %\n",
      "Positive predictve value: 93.47826086956522 %\n",
      "True negative rate: 96.44970414201184 %\n",
      "F1 Score: 91.97860962566847 %\n"
     ]
    }
   ],
   "source": [
    "print('Running KNN with k= 33')\n",
    "run_knn(33)"
   ]
  },
  {
   "cell_type": "code",
   "execution_count": 69,
   "metadata": {},
   "outputs": [
    {
     "name": "stdout",
     "output_type": "stream",
     "text": [
      "[0.940959409594096, 0.9578947368421052, 0.950530035335689, 0.9527272727272728, 0.9492753623188406, 0.9350180505415162, 0.9409722222222222, 0.9602888086642599, 0.9528985507246377]\n"
     ]
    },
    {
     "data": {
      "image/png": "[encoded data removed]",
      "text/plain": [
       "<Figure size 432x288 with 1 Axes>"
      ]
     },
     "metadata": {},
     "output_type": "display_data"
    }
   ],
   "source": [
    "import matplotlib.pyplot as plt\n",
    "\n",
    "k_array = [2, 3, 4, 5, 6, 7, 8, 17, 33]\n",
    "result_array = []\n",
    "for v in k_array:\n",
    "    result_array.append(run_knn(k))\n",
    "print(result_array)\n",
    "\n",
    "plt.scatter(k_array,result_array,c='red')\n",
    "plt.plot(k_array, result_array, c = 'blue')\n",
    "\n",
    "plt.xticks(k_array)\n",
    "plt.xlabel('Value of \"K\"')\n",
    "plt.ylabel('Accuracy')\n",
    "plt.title('K vs Accuracy')\n",
    "plt.show()"
   ]
  },
  {
   "cell_type": "code",
   "execution_count": 71,
   "metadata": {},
   "outputs": [
    {
     "name": "stdout",
     "output_type": "stream",
     "text": [
      "[0.9357798165137615, 0.9368421052631579, 0.9072164948453608, 0.9065420560747663, 0.900990099009901, 0.9108910891089109, 0.9215686274509803, 0.8924731182795699, 0.9270833333333334]\n"
     ]
    },
    {
     "data": {
      "image/png": "[encoded data removed]",
      "text/plain": [
       "<Figure size 432x288 with 1 Axes>"
      ]
     },
     "metadata": {},
     "output_type": "display_data"
    }
   ],
   "source": [
    "import matplotlib.pyplot as plt\n",
    "\n",
    "k_array = [2, 3, 4, 5, 6, 7, 8, 17, 33]\n",
    "result_array = []\n",
    "for v in k_array:\n",
    "    result_array.append(run_knn(k))\n",
    "print(result_array)\n",
    "\n",
    "plt.scatter(k_array,result_array,c='red')\n",
    "plt.plot(k_array, result_array, c = 'green')\n",
    "\n",
    "plt.xticks(k_array)\n",
    "plt.xlabel('Value of \"K\"')\n",
    "plt.ylabel('True Positive Rate')\n",
    "plt.title('K vs TPR')\n",
    "plt.show()"
   ]
  },
  {
   "cell_type": "code",
   "execution_count": 73,
   "metadata": {},
   "outputs": [
    {
     "name": "stdout",
     "output_type": "stream",
     "text": [
      "[0.9361702127659575, 0.92, 0.941747572815534, 0.975, 0.9454545454545454, 0.9032258064516129, 0.9347826086956522, 0.8888888888888888, 0.9292929292929293]\n"
     ]
    },
    {
     "data": {
      "image/png": "[encoded data removed]",
      "text/plain": [
       "<Figure size 432x288 with 1 Axes>"
      ]
     },
     "metadata": {},
     "output_type": "display_data"
    }
   ],
   "source": [
    "import matplotlib.pyplot as plt\n",
    "\n",
    "k_array = [2, 3, 4, 5, 6, 7, 8, 17, 33]\n",
    "result_array = []\n",
    "for v in k_array:\n",
    "    result_array.append(run_knn(k))\n",
    "print(result_array)\n",
    "\n",
    "plt.scatter(k_array,result_array,c='red')\n",
    "plt.plot(k_array, result_array, c = 'orange')\n",
    "\n",
    "plt.xticks(k_array)\n",
    "plt.xlabel('Value of \"K\"')\n",
    "plt.ylabel('Positive Predictive Value')\n",
    "plt.title('K vs PPV')\n",
    "plt.show()"
   ]
  },
  {
   "cell_type": "code",
   "execution_count": 75,
   "metadata": {},
   "outputs": [
    {
     "name": "stdout",
     "output_type": "stream",
     "text": [
      "[0.9221556886227545, 0.9119170984455958, 0.9387755102040816, 0.9214659685863874, 0.9186602870813396, 0.9333333333333333, 0.9134615384615384, 0.9108910891089109, 0.9497716894977168]\n"
     ]
    },
    {
     "data": {
      "image/png": "[encoded data removed]",
      "text/plain": [
       "<Figure size 432x288 with 1 Axes>"
      ]
     },
     "metadata": {},
     "output_type": "display_data"
    }
   ],
   "source": [
    "import matplotlib.pyplot as plt\n",
    "\n",
    "k_array = [2, 3, 4, 5, 6, 7, 8, 17, 33]\n",
    "result_array = []\n",
    "for v in k_array:\n",
    "    result_array.append(run_knn(k))\n",
    "print(result_array)\n",
    "\n",
    "plt.scatter(k_array,result_array,c='red')\n",
    "plt.plot(k_array, result_array, c = 'violet')\n",
    "\n",
    "plt.xticks(k_array)\n",
    "plt.xlabel('Value of \"K\"')\n",
    "plt.ylabel('F1 Score')\n",
    "plt.title('K vs F1 Score')\n",
    "plt.show()"
   ]
  },
  {
   "cell_type": "code",
   "execution_count": null,
   "metadata": {},
   "outputs": [],
   "source": []
  }
 ],
 "metadata": {
  "kernelspec": {
   "display_name": "Python 3",
   "language": "python",
   "name": "python3"
  },
  "language_info": {
   "codemirror_mode": {
    "name": "ipython",
    "version": 3
   },
   "file_extension": ".py",
   "mimetype": "text/x-python",
   "name": "python",
   "nbconvert_exporter": "python",
   "pygments_lexer": "ipython3",
   "version": "3.6.5"
  }
 },
 "nbformat": 4,
 "nbformat_minor": 2
}
